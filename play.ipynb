{
 "nbformat": 4,
 "nbformat_minor": 2,
 "metadata": {
  "language_info": {
   "name": "python",
   "codemirror_mode": {
    "name": "ipython",
    "version": 3
   },
   "version": "3.7.4-final"
  },
  "orig_nbformat": 2,
  "file_extension": ".py",
  "mimetype": "text/x-python",
  "name": "python",
  "npconvert_exporter": "python",
  "pygments_lexer": "ipython3",
  "version": 3,
  "kernelspec": {
   "name": "python37464bitbaseconda1fef5e3928cc4d78b6b3da03c98f793c",
   "display_name": "Python 3.7.4 64-bit ('base': conda)"
  }
 },
 "cells": [
  {
   "cell_type": "code",
   "execution_count": 1,
   "metadata": {},
   "outputs": [],
   "source": [
    "a=1"
   ]
  },
  {
   "cell_type": "code",
   "execution_count": 2,
   "metadata": {},
   "outputs": [
    {
     "data": {
      "text/plain": "{'__name__': '__main__',\n '__doc__': 'Automatically created module for IPython interactive environment',\n '__package__': None,\n '__loader__': None,\n '__spec__': None,\n '__builtin__': <module 'builtins' (built-in)>,\n '__builtins__': <module 'builtins' (built-in)>,\n '_ih': ['', 'a=1', 'vars()'],\n '_oh': {},\n '_dh': ['C:\\\\Users\\\\Jay\\\\AppData\\\\Local\\\\Temp\\\\13db40f0-dad2-43f7-95e8-d2ba20e9b731',\n  'c:\\\\Users\\\\Jay\\\\Desktop\\\\pcrawler'],\n 'In': ['', 'a=1', 'vars()'],\n 'Out': {},\n 'get_ipython': <bound method InteractiveShell.get_ipython of <ipykernel.zmqshell.ZMQInteractiveShell object at 0x000001EDC1E79FC8>>,\n 'exit': <IPython.core.autocall.ZMQExitAutocall at 0x1edc1eb1ec8>,\n 'quit': <IPython.core.autocall.ZMQExitAutocall at 0x1edc1eb1ec8>,\n '_': '',\n '__': '',\n '___': '',\n '_i': 'a=1',\n '_ii': '',\n '_iii': '',\n '_i1': 'a=1',\n 'a': 1,\n '_i2': 'vars()'}"
     },
     "execution_count": 2,
     "metadata": {},
     "output_type": "execute_result"
    }
   ],
   "source": [
    "vars()"
   ]
  },
  {
   "cell_type": "code",
   "execution_count": 3,
   "metadata": {},
   "outputs": [],
   "source": [
    "b=vars()"
   ]
  },
  {
   "cell_type": "code",
   "execution_count": 4,
   "metadata": {},
   "outputs": [
    {
     "data": {
      "text/plain": "1"
     },
     "execution_count": 4,
     "metadata": {},
     "output_type": "execute_result"
    }
   ],
   "source": [
    "b['a']"
   ]
  },
  {
   "cell_type": "code",
   "execution_count": 23,
   "metadata": {},
   "outputs": [
    {
     "name": "stdout",
     "output_type": "stream",
     "text": "test is right\n"
    }
   ],
   "source": [
    "for i in open(\"test.py\",'r'):\n",
    "    print(\"%s is right\" % i)"
   ]
  },
  {
   "cell_type": "code",
   "execution_count": null,
   "metadata": {},
   "outputs": [],
   "source": []
  }
 ]
}